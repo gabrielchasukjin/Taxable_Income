{
  "nbformat": 4,
  "nbformat_minor": 0,
  "metadata": {
    "colab": {
      "name": "TaxableIncomeipynb",
      "provenance": [],
      "collapsed_sections": [],
      "authorship_tag": "ABX9TyOr/ZgQzc5evdrdDJK4kXPq",
      "include_colab_link": true
    },
    "kernelspec": {
      "name": "python3",
      "display_name": "Python 3"
    },
    "language_info": {
      "name": "python"
    },
    "widgets": {
      "application/vnd.jupyter.widget-state+json": {
        "7a80a23c5153407ab0bc2d231bcafd5b": {
          "model_module": "@jupyter-widgets/controls",
          "model_name": "VBoxModel",
          "model_module_version": "1.5.0",
          "state": {
            "_dom_classes": [
              "widget-interact"
            ],
            "_model_module": "@jupyter-widgets/controls",
            "_model_module_version": "1.5.0",
            "_model_name": "VBoxModel",
            "_view_count": null,
            "_view_module": "@jupyter-widgets/controls",
            "_view_module_version": "1.5.0",
            "_view_name": "VBoxView",
            "box_style": "",
            "children": [
              "IPY_MODEL_88f015bfdb5d48968787aad818a4c962",
              "IPY_MODEL_7673851f3fb341df87870ac386ae1ab2"
            ],
            "layout": "IPY_MODEL_88e69c1f5a81426ebd7f84437433d63d"
          }
        },
        "88f015bfdb5d48968787aad818a4c962": {
          "model_module": "@jupyter-widgets/controls",
          "model_name": "IntSliderModel",
          "model_module_version": "1.5.0",
          "state": {
            "_dom_classes": [],
            "_model_module": "@jupyter-widgets/controls",
            "_model_module_version": "1.5.0",
            "_model_name": "IntSliderModel",
            "_view_count": null,
            "_view_module": "@jupyter-widgets/controls",
            "_view_module_version": "1.5.0",
            "_view_name": "IntSliderView",
            "continuous_update": true,
            "description": "income",
            "description_tooltip": null,
            "disabled": false,
            "layout": "IPY_MODEL_48f676f6bd314a1491e0054f86346b66",
            "max": 200001,
            "min": 1,
            "orientation": "horizontal",
            "readout": true,
            "readout_format": "d",
            "step": 1000,
            "style": "IPY_MODEL_097e9cceb88d4d238bacaa1732823908",
            "value": 100001
          }
        },
        "7673851f3fb341df87870ac386ae1ab2": {
          "model_module": "@jupyter-widgets/output",
          "model_name": "OutputModel",
          "model_module_version": "1.0.0",
          "state": {
            "_dom_classes": [],
            "_model_module": "@jupyter-widgets/output",
            "_model_module_version": "1.0.0",
            "_model_name": "OutputModel",
            "_view_count": null,
            "_view_module": "@jupyter-widgets/output",
            "_view_module_version": "1.0.0",
            "_view_name": "OutputView",
            "layout": "IPY_MODEL_1a9c75d1cea64f6ba516bf27ed14ea0c",
            "msg_id": "",
            "outputs": [
              {
                "output_type": "display_data",
                "data": {
                  "text/plain": "<IPython.core.display.HTML object>",
                  "text/html": "\n    <h1>Income Tax Calculator 💰💸</h1>\n    <h3>$100,001.00</h3>\n    Taxable Income\n    \n    <h2>$17,835.74</h2>\n    Tax Owed\n    \n    <h3>17.8%</h3>\n    Effective Tax Rate\n\n    "
                },
                "metadata": {}
              },
              {
                "output_type": "display_data",
                "data": {
                  "text/plain": "<Figure size 432x288 with 1 Axes>",
                  "image/png": "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\n"
                },
                "metadata": {}
              }
            ]
          }
        },
        "88e69c1f5a81426ebd7f84437433d63d": {
          "model_module": "@jupyter-widgets/base",
          "model_name": "LayoutModel",
          "model_module_version": "1.2.0",
          "state": {
            "_model_module": "@jupyter-widgets/base",
            "_model_module_version": "1.2.0",
            "_model_name": "LayoutModel",
            "_view_count": null,
            "_view_module": "@jupyter-widgets/base",
            "_view_module_version": "1.2.0",
            "_view_name": "LayoutView",
            "align_content": null,
            "align_items": null,
            "align_self": null,
            "border": null,
            "bottom": null,
            "display": null,
            "flex": null,
            "flex_flow": null,
            "grid_area": null,
            "grid_auto_columns": null,
            "grid_auto_flow": null,
            "grid_auto_rows": null,
            "grid_column": null,
            "grid_gap": null,
            "grid_row": null,
            "grid_template_areas": null,
            "grid_template_columns": null,
            "grid_template_rows": null,
            "height": null,
            "justify_content": null,
            "justify_items": null,
            "left": null,
            "margin": null,
            "max_height": null,
            "max_width": null,
            "min_height": null,
            "min_width": null,
            "object_fit": null,
            "object_position": null,
            "order": null,
            "overflow": null,
            "overflow_x": null,
            "overflow_y": null,
            "padding": null,
            "right": null,
            "top": null,
            "visibility": null,
            "width": null
          }
        },
        "48f676f6bd314a1491e0054f86346b66": {
          "model_module": "@jupyter-widgets/base",
          "model_name": "LayoutModel",
          "model_module_version": "1.2.0",
          "state": {
            "_model_module": "@jupyter-widgets/base",
            "_model_module_version": "1.2.0",
            "_model_name": "LayoutModel",
            "_view_count": null,
            "_view_module": "@jupyter-widgets/base",
            "_view_module_version": "1.2.0",
            "_view_name": "LayoutView",
            "align_content": null,
            "align_items": null,
            "align_self": null,
            "border": null,
            "bottom": null,
            "display": null,
            "flex": null,
            "flex_flow": null,
            "grid_area": null,
            "grid_auto_columns": null,
            "grid_auto_flow": null,
            "grid_auto_rows": null,
            "grid_column": null,
            "grid_gap": null,
            "grid_row": null,
            "grid_template_areas": null,
            "grid_template_columns": null,
            "grid_template_rows": null,
            "height": null,
            "justify_content": null,
            "justify_items": null,
            "left": null,
            "margin": null,
            "max_height": null,
            "max_width": null,
            "min_height": null,
            "min_width": null,
            "object_fit": null,
            "object_position": null,
            "order": null,
            "overflow": null,
            "overflow_x": null,
            "overflow_y": null,
            "padding": null,
            "right": null,
            "top": null,
            "visibility": null,
            "width": null
          }
        },
        "097e9cceb88d4d238bacaa1732823908": {
          "model_module": "@jupyter-widgets/controls",
          "model_name": "SliderStyleModel",
          "model_module_version": "1.5.0",
          "state": {
            "_model_module": "@jupyter-widgets/controls",
            "_model_module_version": "1.5.0",
            "_model_name": "SliderStyleModel",
            "_view_count": null,
            "_view_module": "@jupyter-widgets/base",
            "_view_module_version": "1.2.0",
            "_view_name": "StyleView",
            "description_width": "",
            "handle_color": null
          }
        },
        "1a9c75d1cea64f6ba516bf27ed14ea0c": {
          "model_module": "@jupyter-widgets/base",
          "model_name": "LayoutModel",
          "model_module_version": "1.2.0",
          "state": {
            "_model_module": "@jupyter-widgets/base",
            "_model_module_version": "1.2.0",
            "_model_name": "LayoutModel",
            "_view_count": null,
            "_view_module": "@jupyter-widgets/base",
            "_view_module_version": "1.2.0",
            "_view_name": "LayoutView",
            "align_content": null,
            "align_items": null,
            "align_self": null,
            "border": null,
            "bottom": null,
            "display": null,
            "flex": null,
            "flex_flow": null,
            "grid_area": null,
            "grid_auto_columns": null,
            "grid_auto_flow": null,
            "grid_auto_rows": null,
            "grid_column": null,
            "grid_gap": null,
            "grid_row": null,
            "grid_template_areas": null,
            "grid_template_columns": null,
            "grid_template_rows": null,
            "height": null,
            "justify_content": null,
            "justify_items": null,
            "left": null,
            "margin": null,
            "max_height": null,
            "max_width": null,
            "min_height": null,
            "min_width": null,
            "object_fit": null,
            "object_position": null,
            "order": null,
            "overflow": null,
            "overflow_x": null,
            "overflow_y": null,
            "padding": null,
            "right": null,
            "top": null,
            "visibility": null,
            "width": null
          }
        }
      }
    }
  },
  "cells": [
    {
      "cell_type": "markdown",
      "metadata": {
        "id": "view-in-github",
        "colab_type": "text"
      },
      "source": [
        "<a href=\"https://colab.research.google.com/github/gabrielchasukjin/Taxable_Income/blob/main/TaxableIncomeipynb.ipynb\" target=\"_parent\"><img src=\"https://colab.research.google.com/assets/colab-badge.svg\" alt=\"Open In Colab\"/></a>"
      ]
    },
    {
      "cell_type": "code",
      "execution_count": null,
      "metadata": {
        "id": "Zt8b_SQP-xz7"
      },
      "outputs": [],
      "source": [
        "# Please don't change this cell, but do make sure to run it.\n",
        "import pandas as bpd\n",
        "import matplotlib.pyplot as plt\n",
        "plt.style.use('fivethirtyeight')\n",
        "import numpy as np\n",
        "# We need to import some extra packages for some fun demonstrations.\n",
        "import json\n",
        "from ipywidgets import interact, widgets\n",
        "from IPython.display import YouTubeVideo, HTML, display, clear_output, Image\n",
        "\n",
        "# Don't worry about this.\n",
        "def read_json(path):\n",
        "    f = open(path, 'r')\n",
        "    return json.load(f)"
      ]
    },
    {
      "cell_type": "code",
      "source": [
        "def tax_owed(income):\n",
        "    #10% tax rate\n",
        "    if income <= 10275:\n",
        "        return 0.1 * income\n",
        "    #12% tax rate\n",
        "    elif income <= 41775:\n",
        "        return 0.1 * 10275 + 0.12 * (income - 10275)\n",
        "    #22% tax rate\n",
        "    elif income <= 89075:\n",
        "        return 0.1 * 10275 + 0.12 * (41775 - 10275) + 0.22 * (income - 41775)\n",
        "    #24% tax rate\n",
        "    elif income <= 170050:\n",
        "        return 0.1 * 10275 + 0.12 * (41775 - 10275) + 0.22 * (89075 - 41775) + 0.24 * (income - 89075)\n",
        "    #32% tax rate\n",
        "    else:\n",
        "        return 0.1 * 10275 + 0.12 * (41775 - 10275) + 0.22 * (89075 - 41775) + 0.24 * (170050 - 89075) + 0.32 * (income - 170050)\n",
        "    "
      ],
      "metadata": {
        "id": "rUfKAH9u-_uS"
      },
      "execution_count": null,
      "outputs": []
    },
    {
      "cell_type": "code",
      "source": [
        "def effective_tax_rate(income):\n",
        "    \n",
        "    if income <= 0:\n",
        "        return 0\n",
        "    else:\n",
        "        return 100 * (tax_owed(income) / income)\n",
        "    "
      ],
      "metadata": {
        "id": "EtCFVyj1_Bo5"
      },
      "execution_count": null,
      "outputs": []
    },
    {
      "cell_type": "code",
      "source": [
        "# Don't worry about the code, just play with the slider that appears after running.\n",
        "def plot_income_calculator(income):\n",
        "    s = f'''\n",
        "    <h1>Income Tax Calculator 💰💸</h1>\n",
        "    <h3>{'${:,.2f}'.format(income)}</h3>\n",
        "    Taxable Income\n",
        "    \n",
        "    <h2>{'${:,.2f}'.format(tax_owed(income))}</h2>\n",
        "    Tax Owed\n",
        "    \n",
        "    <h3>{'{:,.1f}'.format((effective_tax_rate(income))) + '%'}</h3>\n",
        "    Effective Tax Rate\n",
        "\n",
        "    '''\n",
        "    display(HTML(s))\n",
        "    # Labeling the Pie\n",
        "    labels = [\"Net Income: $\" + str(round(income - tax_owed(income),1)), \"Tax Owed: $\" + str(round(tax_owed(income), 1))]\n",
        "    values = [income - tax_owed(income), tax_owed(income)]\n",
        "    explode = (0, 0.15)\n",
        "    if (tax_owed(income) < 7300):\n",
        "      colors = ['#BCD1E8','#FF8080'] \n",
        "    elif (tax_owed(income) < 14600):\n",
        "      colors = ['#90BAD6','#FF5555']\n",
        "    elif (tax_owed(income) < 21900):\n",
        "      colors = ['#73A5C6','#FE2A2A']\n",
        "    elif (tax_owed(income) < 29200):\n",
        "      colors = ['#518AAE','#FF0000']\n",
        "    elif (tax_owed(income) < 36500):\n",
        "      colors = ['#2D5983','#FF0000']\n",
        "    else:\n",
        "      colors = ['#1E3F66','#D30100']\n",
        "    \n",
        "    # Plotting Pie\n",
        "    plt.pie(values, explode = explode, labels = labels, colors = colors, shadow=True, startangle=90)\n",
        "    plt.show()  \n",
        "\n",
        "interact(plot_income_calculator, income=(1, 200001, 1000));\n"
      ],
      "metadata": {
        "colab": {
          "base_uri": "https://localhost:8080/",
          "height": 514,
          "referenced_widgets": [
            "7a80a23c5153407ab0bc2d231bcafd5b",
            "88f015bfdb5d48968787aad818a4c962",
            "7673851f3fb341df87870ac386ae1ab2",
            "88e69c1f5a81426ebd7f84437433d63d",
            "48f676f6bd314a1491e0054f86346b66",
            "097e9cceb88d4d238bacaa1732823908",
            "1a9c75d1cea64f6ba516bf27ed14ea0c"
          ]
        },
        "id": "hJfw9lbj_B__",
        "outputId": "e4293bce-d94b-45db-d6c7-ccba63186ea1"
      },
      "execution_count": null,
      "outputs": [
        {
          "output_type": "display_data",
          "data": {
            "text/plain": [
              "interactive(children=(IntSlider(value=100001, description='income', max=200001, min=1, step=1000), Output()), …"
            ],
            "application/vnd.jupyter.widget-view+json": {
              "version_major": 2,
              "version_minor": 0,
              "model_id": "7a80a23c5153407ab0bc2d231bcafd5b"
            }
          },
          "metadata": {}
        }
      ]
    }
  ]
}